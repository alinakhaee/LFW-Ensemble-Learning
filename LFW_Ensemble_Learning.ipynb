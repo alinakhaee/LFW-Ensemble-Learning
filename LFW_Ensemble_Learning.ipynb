{
  "cells": [
    {
      "cell_type": "markdown",
      "metadata": {
        "id": "view-in-github",
        "colab_type": "text"
      },
      "source": [
        "<a href=\"https://colab.research.google.com/github/alinakhaee/LFW-Ensemble-Learning/blob/main/LFW_Ensemble_Learning.ipynb\" target=\"_parent\"><img src=\"https://colab.research.google.com/assets/colab-badge.svg\" alt=\"Open In Colab\"/></a>"
      ]
    },
    {
      "cell_type": "markdown",
      "id": "9f357fa7",
      "metadata": {
        "id": "9f357fa7"
      },
      "source": [
        "# 1. Create Dataset\n",
        "In the beginnig, we read the `pairsDevTest.txt` and `pairsDevTrain.txt` files and create our dataset. <br>\n",
        "Our final datasets are a 2200\\*1024 array for train and 1000\\*1024 array for test. <br>\n",
        "We have computed the feature points of each image and we transfered them to vectors with 512 dimensions. Therefore each row of our dataset contains 1024 columns, first 512 columns is the feature points of image and second 512 columns are the feature points of second image. <br>\n",
        "The labels for our dataset is True and False. True means the two images is represting the same person, and False means that the two image are showing different persons."
      ]
    },
    {
      "cell_type": "code",
      "execution_count": null,
      "id": "a4a3007b",
      "metadata": {
        "id": "a4a3007b",
        "outputId": "56d04826-4d07-412b-db84-1553d24e196c"
      },
      "outputs": [
        {
          "name": "stdout",
          "output_type": "stream",
          "text": [
            "2200\n",
            "1000\n"
          ]
        }
      ],
      "source": [
        "import numpy as np\n",
        "\n",
        "def read_features_from_file(file_name):\n",
        "    feature_file = open(file_name, \"r\")\n",
        "    feature_lines = feature_file.readlines()\n",
        "    feature_file.close()\n",
        "    features_list = []\n",
        "    for feature_line in feature_lines:\n",
        "        feature_line = feature_line.replace('[[', '').replace(']]', '').strip()\n",
        "        features = list(map(lambda a : float(a), feature_line.split()))\n",
        "        features_list.extend(features)\n",
        "    return features_list\n",
        "        \n",
        "def create_dataset(filename):\n",
        "    file = open(filename, \"r\")\n",
        "    lines = file.readlines()\n",
        "    file.close()\n",
        "    x_list = []\n",
        "    y_list = []\n",
        "\n",
        "    for line in lines:\n",
        "        splitted = line.split()\n",
        "        row = []\n",
        "        if len(splitted) == 3:\n",
        "            name1 = \"project/lfw/{}/{}_{}.{}\".format(splitted[0], splitted[0], str(splitted[1]).zfill(4), 'txt')\n",
        "            name2 = \"project/lfw/{}/{}_{}.{}\".format(splitted[0], splitted[0], str(splitted[2]).zfill(4), 'txt')\n",
        "            row.extend(read_features_from_file(name1))\n",
        "            row.extend(read_features_from_file(name2))\n",
        "            y_list.append(True)\n",
        "            x_list.append(row)\n",
        "        if len(splitted) == 4:\n",
        "            name1 = \"project/lfw/{}/{}_{}.{}\".format(splitted[0], splitted[0], str(splitted[1]).zfill(4), 'txt')\n",
        "            name2 = \"project/lfw/{}/{}_{}.{}\".format(splitted[2], splitted[2], str(splitted[3]).zfill(4), 'txt')\n",
        "            row.extend(read_features_from_file(name1))\n",
        "            row.extend(read_features_from_file(name2))\n",
        "            y_list.append(False)\n",
        "            x_list.append(row)\n",
        "    return x_list, y_list\n",
        "\n",
        "x_train, y_train = create_dataset('project/pairsDevTrain.txt')\n",
        "x_test, y_test = create_dataset('project/pairsDevTest.txt')\n",
        "    \n",
        "print(len(x_train))\n",
        "print(len(x_test))"
      ]
    },
    {
      "cell_type": "markdown",
      "id": "eb6b8fc5",
      "metadata": {
        "id": "eb6b8fc5"
      },
      "source": [
        "# 2. Voting Classifier\n",
        "The idea behind the `VotingClassifier` is to combine conceptually different machine learning classifiers and use a majority vote (hard vote) or the average predicted probabilities (soft vote) to predict the class labels. <br>\n",
        "Such a classifier can be useful for a set of equally well performing model in order to balance out their individual weaknesses.<br>\n",
        "It is the simplest ensemble method. All we have to do is to choose `n` different learners and train all of them with the same dataset. Then for each row of test dataset we check the prediction of each learner and choose the label that was repeated most. <br>\n",
        "First thing we need to do is to choose our models. The Classifiers that we have studied so far are DT, SVM and MLP. <br>\n",
        "For each of these classifiers, we define 3 models with different parameters and vote among 9 different models."
      ]
    },
    {
      "cell_type": "markdown",
      "id": "fb10f8a9",
      "metadata": {
        "id": "fb10f8a9"
      },
      "source": [
        "## 2.1. Decision Tree\n",
        "In exercise 2, we have discussed Decision Trees in details. <br>\n",
        "There are two main parameters we can set for a `DecisionTreeClassifier` in `sklearn` library and they are:\n",
        "*   `max_depth` : <br>\n",
        "The maximum depth of the tree while training. <br>\n",
        "If None, then nodes are expanded until all leaves are pure or until all leaves contain less than `min_samples_split` samples. <br>\n",
        "🟣 default value: `None`\n",
        "\n",
        "*   `criterion` : <br>\n",
        "The function to measure the quality of a split. Supported criteria are `“gini”` for the Gini impurity and `“entropy”` for the information gain. <br>\n",
        "🟣 default value: `\"gini\"` <br>"
      ]
    },
    {
      "cell_type": "code",
      "execution_count": null,
      "id": "d52136cb",
      "metadata": {
        "id": "d52136cb",
        "outputId": "f73a4e9f-9284-4ed3-952d-90738466e8fd"
      },
      "outputs": [
        {
          "name": "stdout",
          "output_type": "stream",
          "text": [
            "Test Data Purity : 56.0%\n",
            "Test Data Rand-Index : 50.67%\n",
            "\n",
            "Test Data Purity : 53.2%\n",
            "Test Data Rand-Index : 50.15%\n",
            "\n",
            "Test Data Purity : 56.4%\n",
            "Test Data Rand-Index : 50.77%\n",
            "\n",
            "Test Data Purity : 53.4%\n",
            "Test Data Rand-Index : 50.18%\n",
            "\n"
          ]
        }
      ],
      "source": [
        "from sklearn.tree import DecisionTreeClassifier\n",
        "from sklearn.metrics import accuracy_score, rand_score\n",
        "\n",
        "def do_decision_tree(decision_tree: DecisionTreeClassifier, print_result= True):\n",
        "    decision_tree.fit(x_train, y_train)\n",
        "    train_predict = decision_tree.predict(x_train)\n",
        "    test_predict = decision_tree.predict(x_test)\n",
        "    train_purity = accuracy_score(train_predict, y_train)\n",
        "    train_rand_index = rand_score(train_predict, y_train)\n",
        "    test_purity = accuracy_score(test_predict, y_test)\n",
        "    test_rand_index = rand_score(test_predict, y_test)\n",
        "    if print_result:\n",
        "        print(f'Test Data Purity : {round(test_purity * 100, 2)}%')\n",
        "        print(f'Test Data Rand-Index : {round(test_rand_index * 100, 2)}%')\n",
        "        print()\n",
        "\n",
        "decision_tree_1 = DecisionTreeClassifier() # gini - full tree\n",
        "decision_tree_2 = DecisionTreeClassifier(criterion='entropy') # entropy - full tree\n",
        "decision_tree_3 = DecisionTreeClassifier(max_depth=10) # gini - 15 depth\n",
        "decision_tree_4 = DecisionTreeClassifier(max_depth=5) # gini - 15 depth\n",
        "do_decision_tree(decision_tree_1)\n",
        "do_decision_tree(decision_tree_2)\n",
        "do_decision_tree(decision_tree_3)\n",
        "do_decision_tree(decision_tree_4)"
      ]
    },
    {
      "cell_type": "markdown",
      "id": "c54b11e3",
      "metadata": {
        "id": "c54b11e3"
      },
      "source": [
        "In the above code we train four different DT models and as it is clear, the first 3 models had the best result and we choose them for out `VotingClassifier`"
      ]
    },
    {
      "cell_type": "markdown",
      "id": "922160d8",
      "metadata": {
        "id": "922160d8"
      },
      "source": [
        "## 2.2. SVM\n",
        "In exercise 3 we discussed SVM in details. <br>\n",
        "The most important parameters for `SVC` in `sklearn` library are:\n",
        "\n",
        "*   `kernel` : <br>\n",
        "Specifies the kernel type to be used in the algorithm. <br>\n",
        "The most famous kernels are: `{'linear', 'poly', 'rbf', 'sigmoid'}` . <br>\n",
        "🟣 default value: `rbf`\n",
        "*   `degree` : <br>\n",
        "Degree of the polynomial kernel function (`‘poly’`). Ignored by all other kernels. <br>\n",
        "🟣 default value: `3`\n",
        "*   `C` : <br>\n",
        "Regularization parameter. The strength of the regularization is inversely proportional to C. Must be strictly positive. <br>\n",
        "🟣 default value: `1.0`\n",
        "*   `gamma` : <br>\n",
        "Kernel coefficient for `‘rbf’`, `‘poly’` and `‘sigmoid’`. <br>\n",
        "🟣 default value: `scale` \n"
      ]
    },
    {
      "cell_type": "code",
      "execution_count": null,
      "id": "ac6f3af0",
      "metadata": {
        "id": "ac6f3af0",
        "outputId": "bd83051a-46e9-4e23-9282-72e602ea0a8c"
      },
      "outputs": [
        {
          "name": "stdout",
          "output_type": "stream",
          "text": [
            "Test Data Purity : 77.9%\n",
            "Test Data Rand-Index : 65.53%\n",
            "\n",
            "Test Data Purity : 77.1%\n",
            "Test Data Rand-Index : 64.65%\n",
            "\n",
            "Test Data Purity : 77.6%\n",
            "Test Data Rand-Index : 65.2%\n",
            "\n",
            "Test Data Purity : 43.6%\n",
            "Test Data Rand-Index : 50.77%\n",
            "\n",
            "Test Data Purity : 77.8%\n",
            "Test Data Rand-Index : 65.42%\n",
            "\n",
            "Test Data Purity : 77.6%\n",
            "Test Data Rand-Index : 65.2%\n",
            "\n"
          ]
        }
      ],
      "source": [
        "from sklearn.svm import SVC, LinearSVC\n",
        "from sklearn.metrics import accuracy_score, rand_score\n",
        "\n",
        "def do_svm(svm, print_result= True):\n",
        "    svm.fit(x_train, y_train)\n",
        "    train_predict = svm.predict(x_train)\n",
        "    test_predict = svm.predict(x_test)\n",
        "    train_purity = accuracy_score(train_predict, y_train)\n",
        "    train_rand_index = rand_score(train_predict, y_train)\n",
        "    test_purity = accuracy_score(test_predict, y_test)\n",
        "    test_rand_index = rand_score(test_predict, y_test)\n",
        "    if print_result:\n",
        "        print(f'Test Data Purity : {round(test_purity * 100, 2)}%')\n",
        "        print(f'Test Data Rand-Index : {round(test_rand_index * 100, 2)}%')\n",
        "        print()\n",
        "\n",
        "svm_1 = SVC(kernel='rbf', C=4)\n",
        "svm_2 = SVC(kernel='poly', degree=4, C=4)\n",
        "svm_3 = SVC(kernel='poly', degree=6)\n",
        "svm_4 = SVC(kernel='sigmoid', C=4)\n",
        "svm_5 = SVC(kernel='rbf', C=3)\n",
        "svm_6 = SVC(kernel='rbf', C=6)\n",
        "do_svm(svm_1)\n",
        "do_svm(svm_2)\n",
        "do_svm(svm_3)\n",
        "do_svm(svm_4)\n",
        "do_svm(svm_5)\n",
        "do_svm(svm_6)"
      ]
    },
    {
      "cell_type": "markdown",
      "id": "775dbfeb",
      "metadata": {
        "id": "775dbfeb"
      },
      "source": [
        "In the above code we train 6 SVMs with different kernels and parameters and we choose the three best models for our `VotingClassifier`."
      ]
    },
    {
      "cell_type": "markdown",
      "id": "298a38c2",
      "metadata": {
        "id": "298a38c2"
      },
      "source": [
        "## 2.3. MLP\n",
        "Class `MLPClassifier` implements a multi-layer perceptron (MLP) algorithm that trains using Backpropagation. <br>\n",
        "In `MLPClassifier` the most important parameters are:\n",
        "\n",
        "*   `hidden_layer_sizes` : <br>\n",
        "It is a tuple and the ith element represents the number of neurons in the ith hidden layer. <br>\n",
        "For example (20, 30, 40) means 3 hidden layer with different sizes. <br>\n",
        "🟣 default value: `(100,)`\n",
        "*   `activation` : <br>\n",
        "Activation function for the hidden layer.<br>\n",
        "`‘identity’`, no-op activation, useful to implement linear bottleneck, returns f(x) = x <br>\n",
        "`‘logistic’`, the logistic sigmoid function, returns f(x) = 1 / (1 + exp(-x)). <br>\n",
        "`‘tanh’`, the hyperbolic tan function, returns f(x) = tanh(x). <br>\n",
        "`‘relu’`, the rectified linear unit function, returns f(x) = max(0, x) <br>\n",
        "🟣 default value: `relu` <br>\n",
        "*   `learning_rate` : <br>\n",
        "Learning rate schedule for weight updates. <br>\n",
        "It can be one of: {`‘constant’`, `‘invscaling’`, `‘adaptive’`} <br>\n",
        "🟣 default value: `scale` \n",
        "*   `max_iter` : <br>\n",
        "Maximum number of iterations. The solver iterates until convergence or this number of iterations. <br>\n",
        "🟣 default value: `200` "
      ]
    },
    {
      "cell_type": "code",
      "execution_count": null,
      "id": "e162a470",
      "metadata": {
        "id": "e162a470",
        "outputId": "cf9910af-802e-4a32-c376-6a2133a5bf22"
      },
      "outputs": [
        {
          "name": "stdout",
          "output_type": "stream",
          "text": [
            "Test Data Purity : 73.9%\n",
            "Test Data Rand-Index : 61.39%\n",
            "\n",
            "Test Data Purity : 74.9%\n",
            "Test Data Rand-Index : 62.36%\n",
            "\n",
            "Test Data Purity : 73.5%\n",
            "Test Data Rand-Index : 61.01%\n",
            "\n",
            "Test Data Purity : 70.7%\n",
            "Test Data Rand-Index : 58.53%\n",
            "\n",
            "Test Data Purity : 72.5%\n",
            "Test Data Rand-Index : 60.09%\n",
            "\n",
            "Test Data Purity : 73.2%\n",
            "Test Data Rand-Index : 60.73%\n",
            "\n",
            "Test Data Purity : 71.9%\n",
            "Test Data Rand-Index : 59.55%\n",
            "\n"
          ]
        }
      ],
      "source": [
        "from sklearn.neural_network import MLPClassifier\n",
        "from sklearn.metrics import accuracy_score, rand_score\n",
        "\n",
        "def do_mlp(mlp, print_result= True):\n",
        "    mlp.fit(x_train, y_train)\n",
        "    train_predict = mlp.predict(x_train)\n",
        "    test_predict = mlp.predict(x_test)\n",
        "    train_purity = accuracy_score(train_predict, y_train)\n",
        "    train_rand_index = rand_score(train_predict, y_train)\n",
        "    test_purity = accuracy_score(test_predict, y_test)\n",
        "    test_rand_index = rand_score(test_predict, y_test)\n",
        "    if print_result:\n",
        "        print(f'Test Data Purity : {round(test_purity * 100, 2)}%')\n",
        "        print(f'Test Data Rand-Index : {round(test_rand_index * 100, 2)}%')\n",
        "        print()\n",
        "\n",
        "mlp_1 = MLPClassifier()\n",
        "mlp_2 = MLPClassifier(hidden_layer_sizes=(200, 100))\n",
        "mlp_3 = MLPClassifier(hidden_layer_sizes=(500, 500))\n",
        "mlp_4 = MLPClassifier(activation=\"tanh\", learning_rate='adaptive')\n",
        "mlp_5 = MLPClassifier(activation=\"logistic\", learning_rate='invscaling')\n",
        "mlp_6 = MLPClassifier(max_iter=100)\n",
        "mlp_7 = MLPClassifier(max_iter=1000)\n",
        "do_mlp(mlp_1)\n",
        "do_mlp(mlp_2)\n",
        "do_mlp(mlp_3)\n",
        "do_mlp(mlp_4)\n",
        "do_mlp(mlp_5)\n",
        "do_mlp(mlp_6)\n",
        "do_mlp(mlp_7)"
      ]
    },
    {
      "cell_type": "markdown",
      "id": "01909c33",
      "metadata": {
        "id": "01909c33"
      },
      "source": [
        "We train some MLP Classifiers with different network shape and paramaters and we keep thee best models for our voting system."
      ]
    },
    {
      "cell_type": "markdown",
      "id": "459f2c9c",
      "metadata": {
        "id": "459f2c9c"
      },
      "source": [
        "## 2.4. Voting Classifier\n",
        "Now that we train lots of models with different parameters and different algorithms, we now want to make a voting system and check if our result is better than each model individually or not. <br>"
      ]
    },
    {
      "cell_type": "code",
      "execution_count": null,
      "id": "58d7b805",
      "metadata": {
        "id": "58d7b805",
        "outputId": "0f959590-51a6-4060-9c46-1379dbe07a39"
      },
      "outputs": [
        {
          "name": "stdout",
          "output_type": "stream",
          "text": [
            "Test Data Purity : 78.4%\n",
            "Test Data Rand-Index : 66.1%\n",
            "\n"
          ]
        }
      ],
      "source": [
        "from sklearn.ensemble import VotingClassifier\n",
        "\n",
        "def do_voting(voting, print_result= True):\n",
        "    voting.fit(x_train, y_train)\n",
        "    train_predict = voting.predict(x_train)\n",
        "    test_predict = voting.predict(x_test)\n",
        "    train_purity = accuracy_score(train_predict, y_train)\n",
        "    train_rand_index = rand_score(train_predict, y_train)\n",
        "    test_purity = accuracy_score(test_predict, y_test)\n",
        "    test_rand_index = rand_score(test_predict, y_test)\n",
        "    if print_result:\n",
        "        print(f'Test Data Purity : {round(test_purity * 100, 2)}%')\n",
        "        print(f'Test Data Rand-Index : {round(test_rand_index * 100, 2)}%')\n",
        "        print()\n",
        "        \n",
        "voting = VotingClassifier(estimators=[\n",
        "        ('dt1', decision_tree_1), ('dt2', decision_tree_3), ('dt3', decision_tree_4),\n",
        "        ('svm1', svm_1), ('svm2', svm_3), ('svm3', svm_5), ('svm4', svm_6),\n",
        "        ('mlp1', mlp_1), ('mlp2', mlp_3), ('mlp3', mlp_7),\n",
        "])\n",
        "do_voting(voting)"
      ]
    },
    {
      "cell_type": "markdown",
      "id": "9e28b4c4",
      "metadata": {
        "id": "9e28b4c4"
      },
      "source": [
        "As you can see, the accuracy that we get after using the voting system is better than each individual classifier. <br>\n",
        "In the above code we are considering the same weight for each classifier. but as we saw, the accuracy for Decision Trees were so much less than SVM and MLP and we need to give lower weight to DT and higher weight to SVMs and MLPs. <br>\n",
        "According to the accuracy of each individual model, we divide the weights as follow: <br>\n",
        "* `dt1`: `1`\n",
        "* `dt2`: `1.3`\n",
        "* `dt3`: `1`\n",
        "* `svm1`: `2.5`\n",
        "* `svm2`: `2.3`\n",
        "* `svm3`: `2.3`\n",
        "* `svm4`: `2.3`\n",
        "* `mlp1`: `2.4`\n",
        "* `mlp2`: `2.3`\n",
        "* `mlp3`: `2.1`"
      ]
    },
    {
      "cell_type": "code",
      "execution_count": null,
      "id": "99a6c03e",
      "metadata": {
        "scrolled": true,
        "id": "99a6c03e",
        "outputId": "612f800a-62a1-4b5e-c4b7-3773efb9adb0"
      },
      "outputs": [
        {
          "name": "stdout",
          "output_type": "stream",
          "text": [
            "Test Data Purity : 78.8%\n",
            "Test Data Rand-Index : 66.56%\n",
            "\n"
          ]
        }
      ],
      "source": [
        "voting = VotingClassifier(estimators=[\n",
        "        ('dt1', decision_tree_1), ('dt2', decision_tree_3), ('dt3', decision_tree_4),\n",
        "        ('svm1', svm_1), ('svm2', svm_3), ('svm3', svm_5), ('svm4', svm_6),\n",
        "        ('mlp1', mlp_1), ('mlp2', mlp_3), ('mlp3', mlp_7),],\n",
        "                         weights=[1, 1.3, 1, 2.5, 2.3, 2.3, 2.3, 2.4, 2.3, 2.1])\n",
        "do_voting(voting)"
      ]
    },
    {
      "cell_type": "markdown",
      "id": "8085a4d8",
      "metadata": {
        "id": "8085a4d8"
      },
      "source": [
        "As you can see, after we added weight to out models, we get a little better accuracy and for sure this accuracy is still more than each model individually. <br>\n",
        "So we infer that by voting amongst some weak classifiers, we can get a better accuracy and make a slightly stronger model."
      ]
    },
    {
      "cell_type": "markdown",
      "id": "eb27f1a0",
      "metadata": {
        "id": "eb27f1a0"
      },
      "source": [
        "# 3. Bagging Classifier\n",
        "A Bagging classifier is an ensemble meta-estimator that fits base classifiers each on random subsets of the original dataset and then aggregate their individual predictions (either by voting or by averaging) to form a final prediction. <br>\n",
        "Such a meta-estimator can typically be used as a way to reduce the variance of a black-box estimator (e.g., a decision tree), by introducing randomization into its construction procedure and then making an ensemble out of it. <br>\n",
        "In `BaggingClassifier` of `sklearn` library the most important parameters are:\n",
        "*   `base_estimator` : <br>\n",
        "The base estimator to fit on random subsets of the dataset. <br>\n",
        "🟣 default value: `DecisionTreeClassifier`\n",
        "*   `n_estimators` : <br>\n",
        "The number of base estimators in the ensemble.<br>\n",
        "🟣 default value: `10` <br>\n",
        "*   `bootstrap` : <br>\n",
        "Whether samples are drawn with replacement or not. If False, sampling without replacement is performed. <br>\n",
        "🟣 default value: `True` "
      ]
    },
    {
      "cell_type": "markdown",
      "id": "ada15d7b",
      "metadata": {
        "id": "ada15d7b"
      },
      "source": [
        "## 3.1. Test different models\n",
        "First of all, we want to check all the different models that we have trained so far and see which model gets higher improvement. <br>"
      ]
    },
    {
      "cell_type": "code",
      "execution_count": null,
      "id": "63935830",
      "metadata": {
        "id": "63935830",
        "outputId": "1c147bdf-36b7-41a7-c0ba-94f77bbc3138"
      },
      "outputs": [
        {
          "data": {
            "image/png": "[encoded data removed]",
            "text/plain": [
              "<Figure size 432x288 with 1 Axes>"
            ]
          },
          "metadata": {
            "needs_background": "light"
          },
          "output_type": "display_data"
        },
        {
          "data": {
            "image/png": "[encoded data removed]",
            "text/plain": [
              "<Figure size 432x288 with 1 Axes>"
            ]
          },
          "metadata": {
            "needs_background": "light"
          },
          "output_type": "display_data"
        }
      ],
      "source": [
        "from sklearn.ensemble import BaggingClassifier\n",
        "import matplotlib.pyplot as plt\n",
        "\n",
        "def show_bar_chart(x, y, title, color):\n",
        "    fig = plt.figure()\n",
        "    ax = fig.add_axes([0,0,1,1])\n",
        "    ax.title.set_text(title)\n",
        "    ax.bar(x, y, color=color, width=0.3)\n",
        "    plt.show()\n",
        "\n",
        "def do_bagging(bagging, print_result=True):\n",
        "    bagging.fit(x_train, y_train)\n",
        "    train_predict = bagging.predict(x_train)\n",
        "    test_predict = bagging.predict(x_test)\n",
        "    train_purity = accuracy_score(train_predict, y_train)\n",
        "    train_rand_index = rand_score(train_predict, y_train)\n",
        "    test_purity = accuracy_score(test_predict, y_test)\n",
        "    test_rand_index = rand_score(test_predict, y_test)\n",
        "    if print_result:\n",
        "        print(f'Test Data Purity : {round(test_purity * 100, 2)}%')\n",
        "        print(f'Test Data Rand-Index : {round(test_rand_index * 100, 2)}%')\n",
        "        print()\n",
        "    return train_purity, test_purity\n",
        "\n",
        "base_estimators = [decision_tree_1, decision_tree_3, decision_tree_4,\n",
        "                  svm_1, svm_2, svm_3,\n",
        "                  mlp_1, mlp_3, mlp_7]\n",
        "base_estimators_str = ['dt1', 'dt2', 'dt3', 'svm1', 'svm2', 'svm3', 'mlp1', 'mlp2', 'mlp3']\n",
        "train_purities = []\n",
        "test_purities = []\n",
        "for base_estimator in base_estimators :\n",
        "    bagging = BaggingClassifier(base_estimator=base_estimator)\n",
        "    train_purity, test_purity = do_bagging(bagging, False)\n",
        "    train_purities.append(train_purity)\n",
        "    test_purities.append(test_purity)\n",
        "\n",
        "show_bar_chart(base_estimators_str, train_purities,'Estimators Train Purity', 'tab:blue')\n",
        "show_bar_chart(base_estimators_str, test_purities,'Estimators test Purity', 'tab:purple')"
      ]
    },
    {
      "cell_type": "markdown",
      "id": "96a5a195",
      "metadata": {
        "id": "96a5a195"
      },
      "source": [
        "From the plots we can see that the second MLP classifiers get the accuracy of near 79% and it is a great improvment, since this models has 73.5% accuracy individually but after bagging it produces the most accurate answer. <br>\n",
        "The decision trees doesn't get much improvment after using the bagging system. <br>\n",
        "The SVMs models have average 77% accuracy individually and after bagging, they got the same accuracy, and even less acuuracy. <br>\n",
        "But for the MLPs we can see that we had a great improvment and turn our models from 73.5% to near 80% accuracy. <br>"
      ]
    },
    {
      "cell_type": "markdown",
      "id": "1b53bcbb",
      "metadata": {
        "id": "1b53bcbb"
      },
      "source": [
        "## 3.2. Number of estimators\n",
        "From the previous section we can infer that `BaggingClassifier` works well for MLPs and somehow DTs, but doesn't have good effects on SVMs.<br>\n",
        "Now we want to check number of estimators and from now on, we use `mlp_3` as our `base_estimator` since it has the highest performance."
      ]
    },
    {
      "cell_type": "code",
      "execution_count": null,
      "id": "de79bb23",
      "metadata": {
        "id": "de79bb23",
        "outputId": "0064ab48-39ef-42a7-c408-a19290495320"
      },
      "outputs": [
        {
          "data": {
            "image/png": "[encoded data removed]",
            "text/plain": [
              "<Figure size 432x288 with 1 Axes>"
            ]
          },
          "metadata": {
            "needs_background": "light"
          },
          "output_type": "display_data"
        },
        {
          "data": {
            "image/png": "[encoded data removed]",
            "text/plain": [
              "<Figure size 432x288 with 1 Axes>"
            ]
          },
          "metadata": {
            "needs_background": "light"
          },
          "output_type": "display_data"
        }
      ],
      "source": [
        "from sklearn.ensemble import BaggingClassifier\n",
        "import matplotlib.pyplot as plt\n",
        "   \n",
        "n_estimators = [3, 5, 7, 9, 11, 13]\n",
        "train_purities = []\n",
        "test_purities = []\n",
        "for n_estimator in n_estimators :\n",
        "    bagging = BaggingClassifier(base_estimator=mlp_3, n_estimators=n_estimator)\n",
        "    train_purity, test_purity = do_bagging(bagging, False)\n",
        "    train_purities.append(train_purity)\n",
        "    test_purities.append(test_purity)\n",
        "\n",
        "\n",
        "plt.plot(n_estimators, train_purities, 'tab:orange')\n",
        "plt.suptitle('Number of estimator on Train Purity')\n",
        "plt.show()\n",
        "plt.plot(n_estimators, test_purities, 'tab:red')\n",
        "plt.suptitle('Number of estimators on Test Purity')\n",
        "plt.show()"
      ]
    },
    {
      "cell_type": "markdown",
      "id": "e22579e3",
      "metadata": {
        "id": "e22579e3"
      },
      "source": [
        "In the above code we used the MLP model with 6 different `n_estimators` and see the result. <br>\n",
        "As you can see in the plots, by increasing the number of estimators we get better performance and by using 13 estimators, we get 79% accuracy which is much more than the MLP individually which was 73.5% <br>\n",
        "So we infer that by increasing number of estimators, we can lower the overfitting and therfore increasing the accuracy for our model. <br>"
      ]
    },
    {
      "cell_type": "markdown",
      "id": "ea961227",
      "metadata": {
        "id": "ea961227"
      },
      "source": [
        "## 3.3. Replacement vs No Replacement\n",
        "Up to now we used bootstraping, or replacement for our bagging models. Now we want to check the result if we train our estimators with no replacement. "
      ]
    },
    {
      "cell_type": "code",
      "execution_count": null,
      "id": "9af25b92",
      "metadata": {
        "id": "9af25b92",
        "outputId": "adce0eca-f3ae-43d7-859b-07381346fc71"
      },
      "outputs": [
        {
          "name": "stdout",
          "output_type": "stream",
          "text": [
            "Test Data Purity : 78.5%\n",
            "Test Data Rand-Index : 66.21%\n",
            "\n"
          ]
        },
        {
          "data": {
            "text/plain": [
              "(1.0, 0.785)"
            ]
          },
          "execution_count": 13,
          "metadata": {},
          "output_type": "execute_result"
        }
      ],
      "source": [
        "bagging = BaggingClassifier(base_estimator=mlp_3, n_estimators=13, bootstrap=False)\n",
        "do_bagging(bagging)"
      ]
    },
    {
      "cell_type": "markdown",
      "id": "0d5a7d16",
      "metadata": {
        "id": "0d5a7d16"
      },
      "source": [
        "The accuracy that we got with replacement (previous section) was 80% for test and 99% for train data. <br>\n",
        "Now by applying No Replacement, we got 100% accuracy for train and 78.5% accuracy for test. which means that our model has gotten more overfitted to the dataset and doesn't work as good as replacement method on test data. <br>\n",
        "The reason is clear, because in replacement method, almost 37% of our train data will never be picked and this will prevent our model from overfitting. <br>"
      ]
    },
    {
      "cell_type": "markdown",
      "id": "1587cd19",
      "metadata": {
        "id": "1587cd19"
      },
      "source": [
        "# 4. Stacking Classifier\n",
        "Stacked generalization is a method for combining estimators to reduce their biases. <br>\n",
        "More precisely, the predictions of each individual estimator are stacked together and used as input to a final estimator to compute the prediction. This final estimator is trained through cross-validation. <br>\n",
        "<br>\n",
        "Stacked generalization consists in stacking the output of individual estimator and use a classifier to compute the final prediction. Stacking allows to use the strength of each individual estimator by using their output as input of a final estimator. <br>\n",
        "Note that estimators are fitted on the full dataset while final estimator is trained using cross-validated predictions of the base estimators using `cross_val_predict`. <br>\n",
        "There are three main parameter for this classifier and they are: <br>\n",
        "*   `estimators` : <br>\n",
        "Base estimators which will be stacked together. Each element of the list is defined as a tuple of string (i.e. name) and an estimator instance. <br>\n",
        "🟣 default value: IT IS REQUIRED\n",
        "*   `final_estimator` : <br>\n",
        "A classifier which will be used to combine the base estimators.<br>\n",
        "🟣 default value: `LogisticRegression` <br>\n",
        "*   `cv` : <br>\n",
        "Determines the `cross-validation` splitting strategy used in `cross_val_predict` to train `final_estimator`. <br>\n",
        "It uses KFold strategy and we have to determine number of K. <br>\n",
        "🟣 default value: `5`\n",
        "<br>"
      ]
    },
    {
      "cell_type": "markdown",
      "id": "b4fd4d46",
      "metadata": {
        "id": "b4fd4d46"
      },
      "source": [
        "## 4.1. Estimators\n",
        "Initially we train 9 of our previous models and use default values for other parameters."
      ]
    },
    {
      "cell_type": "code",
      "execution_count": null,
      "id": "392d7bd7",
      "metadata": {
        "id": "392d7bd7",
        "outputId": "0409650e-e120-4951-c168-cf1ef7790f7b"
      },
      "outputs": [
        {
          "name": "stdout",
          "output_type": "stream",
          "text": [
            "Test Data Purity : 77.5%\n",
            "Test Data Rand-Index : 65.09%\n",
            "\n"
          ]
        },
        {
          "data": {
            "text/plain": [
              "(1.0, 0.775)"
            ]
          },
          "execution_count": 18,
          "metadata": {},
          "output_type": "execute_result"
        }
      ],
      "source": [
        "from sklearn.ensemble import StackingClassifier\n",
        "import matplotlib.pyplot as plt\n",
        "\n",
        "def do_stacking(stacking, print_result=True):\n",
        "    stacking.fit(x_train, y_train)\n",
        "    train_predict = stacking.predict(x_train)\n",
        "    test_predict = stacking.predict(x_test)\n",
        "    train_purity = accuracy_score(train_predict, y_train)\n",
        "    train_rand_index = rand_score(train_predict, y_train)\n",
        "    test_purity = accuracy_score(test_predict, y_test)\n",
        "    test_rand_index = rand_score(test_predict, y_test)\n",
        "    if print_result:\n",
        "        print(f'Test Data Purity : {round(test_purity * 100, 2)}%')\n",
        "        print(f'Test Data Rand-Index : {round(test_rand_index * 100, 2)}%')\n",
        "        print()\n",
        "    return train_purity, test_purity\n",
        "\n",
        "estimators = [\n",
        "     ('dt1', decision_tree_1), ('dt2', decision_tree_3), ('dt3', decision_tree_4),\n",
        "     ('svm1', svm_1), ('svm2', svm_3), ('svm3', svm_5), ('svm4', svm_6),\n",
        "     ('mlp1', mlp_1), ('mlp2', mlp_3), ('mlp3', mlp_7)\n",
        "]\n",
        "stacking = StackingClassifier(estimators=estimators)\n",
        "do_stacking(stacking)"
      ]
    },
    {
      "cell_type": "markdown",
      "id": "43969627",
      "metadata": {
        "id": "43969627"
      },
      "source": [
        "After using the stacking classifier, we get 77.5% accuracy which is more than most of the models individually. <br>\n",
        "In the above Stacking Classifier, we used the `LogisticRegression` as the final estimator. <br>\n",
        "Now we want to decrease the size of estimators and choose the three best individual models and then see the result. <br>"
      ]
    },
    {
      "cell_type": "code",
      "execution_count": null,
      "id": "2714ee78",
      "metadata": {
        "id": "2714ee78",
        "outputId": "a321a0de-38f8-4692-a05c-f7286f48b3b0"
      },
      "outputs": [
        {
          "name": "stdout",
          "output_type": "stream",
          "text": [
            "Test Data Purity : 78.8%\n",
            "Test Data Rand-Index : 66.56%\n",
            "\n"
          ]
        },
        {
          "data": {
            "text/plain": [
              "(1.0, 0.788)"
            ]
          },
          "execution_count": 20,
          "metadata": {},
          "output_type": "execute_result"
        }
      ],
      "source": [
        "estimators = [\n",
        "     ('svm1', svm_1), ('svm2', svm_5),('mlp1', mlp_2)\n",
        "]\n",
        "stacking = StackingClassifier(estimators=estimators)\n",
        "do_stacking(stacking)"
      ]
    },
    {
      "cell_type": "markdown",
      "id": "4542b307",
      "metadata": {
        "id": "4542b307"
      },
      "source": [
        "By choosing less models in our Stacking Classifier, we get 78.8% accuracy which is more than all of our individual models."
      ]
    },
    {
      "cell_type": "markdown",
      "id": "a74de3b1",
      "metadata": {
        "id": "a74de3b1"
      },
      "source": [
        "## 4.2. Final Estimator\n",
        "Up to now we were working with the `LogisticRegression` which was the default value for final estimator. <br>\n",
        "Now we want to use other models we have learned so far and use them as final estimator and see the result. <br>"
      ]
    },
    {
      "cell_type": "code",
      "execution_count": null,
      "id": "3d9e2884",
      "metadata": {
        "id": "3d9e2884",
        "outputId": "ba30aa28-3205-4c01-af3a-573781500964"
      },
      "outputs": [
        {
          "data": {
            "image/png": "[encoded data removed]",
            "text/plain": [
              "<Figure size 432x288 with 1 Axes>"
            ]
          },
          "metadata": {
            "needs_background": "light"
          },
          "output_type": "display_data"
        },
        {
          "data": {
            "image/png": "[encoded data removed]",
            "text/plain": [
              "<Figure size 432x288 with 1 Axes>"
            ]
          },
          "metadata": {
            "needs_background": "light"
          },
          "output_type": "display_data"
        }
      ],
      "source": [
        "def show_bar_chart(x, y, title, color):\n",
        "    fig = plt.figure()\n",
        "    ax = fig.add_axes([0,0,1,1])\n",
        "    ax.title.set_text(title)\n",
        "    ax.bar(x, y, color=color, width=0.3)\n",
        "    plt.show()\n",
        "    \n",
        "final_estimators = [DecisionTreeClassifier(), MLPClassifier(), SVC()]\n",
        "final_estimators_str = ['DT', 'MLP', 'SVM']\n",
        "train_purities = []\n",
        "test_purities = []\n",
        "for final_estimator in final_estimators :\n",
        "    stacking = StackingClassifier(estimators=estimators, final_estimator=final_estimator)\n",
        "    train_purity, test_purity = do_stacking(stacking, False)\n",
        "    train_purities.append(train_purity)\n",
        "    test_purities.append(test_purity)\n",
        "\n",
        "show_bar_chart(final_estimators_str, train_purities,'Final Estimator On Train Purity', 'tab:blue')\n",
        "show_bar_chart(final_estimators_str, test_purities,'Final Estimator On test Purity', 'tab:purple')"
      ]
    },
    {
      "cell_type": "markdown",
      "id": "40b1ee1a",
      "metadata": {
        "id": "40b1ee1a"
      },
      "source": [
        "As it is clear in the plots, by choosing `DecisionTreeClassifier` as the  final estimator, we get 65% accuracy, and by choosing MLP and SVM, we get 77% accuracy; which all of them are less than the `LogisticRegression` that we used in previous section which was 78.8%. <br>\n",
        "So we infer that the `LogisticRegression` works best as final estimator and we keep using it."
      ]
    },
    {
      "cell_type": "markdown",
      "id": "2bab54f7",
      "metadata": {
        "id": "2bab54f7"
      },
      "source": [
        "## 4.3. Cross Validation\n",
        "The Stacking Classifier uses K-Fold strategy to split inputs. <br>\n",
        "Up to now we have used 5-Fold and now we want to check this parameter."
      ]
    },
    {
      "cell_type": "code",
      "execution_count": null,
      "id": "f909821f",
      "metadata": {
        "id": "f909821f",
        "outputId": "266ec612-0f59-44d1-d768-7dc73740aaf8"
      },
      "outputs": [
        {
          "data": {
            "image/png": "[encoded data removed]",
            "text/plain": [
              "<Figure size 432x288 with 1 Axes>"
            ]
          },
          "metadata": {
            "needs_background": "light"
          },
          "output_type": "display_data"
        },
        {
          "data": {
            "image/png": "[encoded data removed]",
            "text/plain": [
              "<Figure size 432x288 with 1 Axes>"
            ]
          },
          "metadata": {
            "needs_background": "light"
          },
          "output_type": "display_data"
        }
      ],
      "source": [
        "import matplotlib.pyplot as plt\n",
        "   \n",
        "cvs = [3, 5, 10, 15]\n",
        "train_purities = []\n",
        "test_purities = []\n",
        "for cv in cvs :\n",
        "    stacking = StackingClassifier(estimators=estimators, cv=cv)\n",
        "    train_purity, test_purity = do_stacking(stacking, False)\n",
        "    train_purities.append(train_purity)\n",
        "    test_purities.append(test_purity)\n",
        "\n",
        "\n",
        "plt.plot(cvs, train_purities, 'tab:orange')\n",
        "plt.suptitle('CV on Train Purity')\n",
        "plt.show()\n",
        "plt.plot(cvs, test_purities, 'tab:red')\n",
        "plt.suptitle('CV on Test Purity')\n",
        "plt.show()"
      ]
    },
    {
      "cell_type": "markdown",
      "id": "1bcfdbbb",
      "metadata": {
        "id": "1bcfdbbb"
      },
      "source": [
        "As you can see in the plots, the `cv` parameters have no effect on the train dataset, but on the test dataset, `cv=5` and `cv=15` has the same effect and they had 78.9% accuracy, but for `cv=3` and `cv=10` we have lost a bit of accuracy. <br>\n",
        "Totally, we infer that this parameter doesn't have too much effect on the accuracy ."
      ]
    },
    {
      "cell_type": "markdown",
      "id": "d71ac1bf",
      "metadata": {
        "id": "d71ac1bf"
      },
      "source": [
        "# 5. Random Forest\n",
        "A random forest is a meta estimator that fits a number of decision tree classifiers on various sub-samples of the dataset and uses averaging to improve the predictive accuracy and control over-fitting.<br>\n",
        "There are three main paramaters which are:\n",
        "*   `n_estimators` : <br>\n",
        "The number of trees in the forest. <br>\n",
        "🟣 default value: `100`\n",
        "*   `criterion` : <br>\n",
        "The function to measure the quality of a split. Supported criteria are “gini” for the Gini impurity and “entropy” for the information gain. Note: this parameter is tree-specific.<br>\n",
        "🟣 default value: `\"gini\"` <br>\n",
        "*   `max_depth` : <br>\n",
        "The maximum depth of the tree. If None, then nodes are expanded until all leaves are pure. <br>\n",
        "🟣 default value: `None`\n",
        "<br>"
      ]
    },
    {
      "cell_type": "markdown",
      "id": "c850b1e1",
      "metadata": {
        "id": "c850b1e1"
      },
      "source": [
        "## 5.1. Number of Trees\n",
        "In this part we are checking the effect of tree numbers on accuracy. <br>\n",
        "We have to mention that by using Decision Tree Classifier individually, we got 56.4% accuracy at most. <br>\n",
        "Now we want to see if Random Forest Classifier can help us improve this number."
      ]
    },
    {
      "cell_type": "code",
      "execution_count": null,
      "id": "5ea30461",
      "metadata": {
        "id": "5ea30461",
        "outputId": "6a3c68bf-42cf-4982-c7b6-68b238b5ff6b"
      },
      "outputs": [
        {
          "data": {
            "image/png": "[encoded data removed]",
            "text/plain": [
              "<Figure size 432x288 with 1 Axes>"
            ]
          },
          "metadata": {
            "needs_background": "light"
          },
          "output_type": "display_data"
        },
        {
          "data": {
            "image/png": "[encoded data removed]",
            "text/plain": [
              "<Figure size 432x288 with 1 Axes>"
            ]
          },
          "metadata": {
            "needs_background": "light"
          },
          "output_type": "display_data"
        }
      ],
      "source": [
        "from sklearn.ensemble import RandomForestClassifier\n",
        "import matplotlib.pyplot as plt\n",
        "\n",
        "def do_random_forest(random_forest, print_result=True):\n",
        "    random_forest.fit(x_train, y_train)\n",
        "    train_predict = random_forest.predict(x_train)\n",
        "    test_predict = random_forest.predict(x_test)\n",
        "    train_purity = accuracy_score(train_predict, y_train)\n",
        "    train_rand_index = rand_score(train_predict, y_train)\n",
        "    test_purity = accuracy_score(test_predict, y_test)\n",
        "    test_rand_index = rand_score(test_predict, y_test)\n",
        "    if print_result:\n",
        "        print(f'Test Data Purity : {round(test_purity * 100, 2)}%')\n",
        "        print(f'Test Data Rand-Index : {round(test_rand_index * 100, 2)}%')\n",
        "        print()\n",
        "    return train_purity, test_purity\n",
        "\n",
        "n_estimators = [5, 10, 15, 20, 25, 30, 35, 40, 45, 50, 55, 60, 65, 70, 75, 80]\n",
        "train_purities = []\n",
        "test_purities = []\n",
        "for n_estimator in n_estimators :\n",
        "    random_forest = RandomForestClassifier(n_estimators=n_estimator)\n",
        "    train_purity, test_purity = do_random_forest(random_forest, False)\n",
        "    train_purities.append(train_purity)\n",
        "    test_purities.append(test_purity)\n",
        "\n",
        "\n",
        "plt.plot(n_estimators, train_purities, 'tab:orange')\n",
        "plt.suptitle('Number of Trees on Train Purity')\n",
        "plt.show()\n",
        "plt.plot(n_estimators, test_purities, 'tab:red')\n",
        "plt.suptitle('Number of Trees on Test Purity')\n",
        "plt.show()"
      ]
    },
    {
      "cell_type": "markdown",
      "id": "af355e89",
      "metadata": {
        "id": "af355e89"
      },
      "source": [
        "As you can see in the plots, by increasing the number of trees, we get more and more accuracy. <br>\n",
        "The accuracy that we got by an individual Decision Tree, was at most 56.4%. But after performing a Random Forest Classifier with 55 trees, we get 64% accuracy which is much much more than an individual tree. <br>\n",
        "Also we have to mention that the compution time for Random Forest is so much short and comparing to other ensemble methods, random forest finds converges too much faster. <br>\n"
      ]
    },
    {
      "cell_type": "markdown",
      "id": "e5bbfae9",
      "metadata": {
        "id": "e5bbfae9"
      },
      "source": [
        "## 5.2. Criterion\n",
        "In the previous section we found out that by choosing `n_estimators=55` we would get the highest accuracy. <br>\n",
        "The previous section result was with `\"gini\"` strategy. Now we want to test Random Forest with `\"entropy\"` strategy and see the result."
      ]
    },
    {
      "cell_type": "code",
      "execution_count": null,
      "id": "993ccce8",
      "metadata": {
        "id": "993ccce8",
        "outputId": "0089bfd6-338d-4b7c-d81f-bb95c708e21b"
      },
      "outputs": [
        {
          "data": {
            "image/png": "[encoded data removed]",
            "text/plain": [
              "<Figure size 432x288 with 1 Axes>"
            ]
          },
          "metadata": {
            "needs_background": "light"
          },
          "output_type": "display_data"
        },
        {
          "data": {
            "image/png": "[encoded data removed]",
            "text/plain": [
              "<Figure size 432x288 with 1 Axes>"
            ]
          },
          "metadata": {
            "needs_background": "light"
          },
          "output_type": "display_data"
        }
      ],
      "source": [
        "n_estimators = [5, 10, 15, 20, 25, 30, 35, 40, 45, 50, 55, 60, 65, 70, 75, 80]\n",
        "train_purities = []\n",
        "test_purities = []\n",
        "for n_estimator in n_estimators :\n",
        "    random_forest = RandomForestClassifier(n_estimators=n_estimator, criterion='entropy')\n",
        "    train_purity, test_purity = do_random_forest(random_forest, False)\n",
        "    train_purities.append(train_purity)\n",
        "    test_purities.append(test_purity)\n",
        "\n",
        "\n",
        "plt.plot(n_estimators, train_purities, 'tab:orange')\n",
        "plt.suptitle('Number of Trees on Train Purity')\n",
        "plt.show()\n",
        "plt.plot(n_estimators, test_purities, 'tab:red')\n",
        "plt.suptitle('Number of Trees on Test Purity')\n",
        "plt.show()"
      ]
    },
    {
      "cell_type": "markdown",
      "id": "9d7277e8",
      "metadata": {
        "id": "9d7277e8"
      },
      "source": [
        "We use the same number of trees and plot them, but this time we use the entropy strategy for classifier. <br>\n",
        "The difference of the accuracies is not too much, but we can tell that the entropy method is slightly better than the gini. However the entropy takes a little more time to be computed. "
      ]
    },
    {
      "cell_type": "markdown",
      "id": "c3ba49b4",
      "metadata": {
        "id": "c3ba49b4"
      },
      "source": [
        "## 5.3. Max Depth\n",
        "Another important parameter in Decision Tree and Random Forest is `max_depth`. <br>\n",
        "Instead of creating the whole tree, which results into overfitting, we creaate the tree to a pre-defined depth. <br>\n",
        "In previous sections we infer that the best Random Forest Classifier is with 55 tress and entropy method, therefore we use this model to test the max depth parameter."
      ]
    },
    {
      "cell_type": "code",
      "execution_count": null,
      "id": "5d7562ff",
      "metadata": {
        "id": "5d7562ff",
        "outputId": "684f770e-089d-40cf-a4e6-4c8591090ba4"
      },
      "outputs": [
        {
          "data": {
            "image/png": "[encoded data removed]",
            "text/plain": [
              "<Figure size 432x288 with 1 Axes>"
            ]
          },
          "metadata": {
            "needs_background": "light"
          },
          "output_type": "display_data"
        },
        {
          "data": {
            "image/png": "[encoded data removed]",
            "text/plain": [
              "<Figure size 432x288 with 1 Axes>"
            ]
          },
          "metadata": {
            "needs_background": "light"
          },
          "output_type": "display_data"
        }
      ],
      "source": [
        "max_depths = [10, 20, 30, 40, 50, 60]\n",
        "train_purities = []\n",
        "test_purities = []\n",
        "for max_depth in max_depths :\n",
        "    random_forest = RandomForestClassifier(n_estimators=55, criterion='entropy', max_depth=max_depth)\n",
        "    train_purity, test_purity = do_random_forest(random_forest, False)\n",
        "    train_purities.append(train_purity)\n",
        "    test_purities.append(test_purity)\n",
        "\n",
        "\n",
        "plt.plot(max_depths, train_purities, 'tab:orange')\n",
        "plt.suptitle('Max Depth on Train Purity')\n",
        "plt.show()\n",
        "plt.plot(max_depths, test_purities, 'tab:red')\n",
        "plt.suptitle('Max Depth on Test Purity')\n",
        "plt.show()"
      ]
    },
    {
      "cell_type": "markdown",
      "id": "a5e8e27e",
      "metadata": {
        "id": "a5e8e27e"
      },
      "source": [
        "As it is clear in the plots, by choosing `max_depth=20` we get almost 66% accuracy which is more than the random forests in previous sections. <br>\n",
        "The reason for this is that by preventing the algorithm to create the full tree, we prevent the random forest classifier from being overfitted."
      ]
    },
    {
      "cell_type": "markdown",
      "id": "8c37ea66",
      "metadata": {
        "id": "8c37ea66"
      },
      "source": [
        "# 6. AdaBoost\n",
        "An AdaBoost classifier is a meta-estimator that begins by fitting a classifier on the original dataset and then fits additional copies of the classifier on the same dataset but where the weights of incorrectly classified instances are adjusted such that subsequent classifiers focus more on difficult cases. <br>\n",
        "The core principle of AdaBoost is to fit a sequence of weak learners (i.e., models that are only slightly better than random guessing, such as very small decision trees) on repeatedly modified versions of the data. <br>\n",
        "\n",
        "There are two main parameter for Ada Boost Classifier and they are: <br>\n",
        "*   `base_estimator` : <br>\n",
        "The base estimator from which the boosted ensemble is built. If None, then the base estimator is DecisionTreeClassifier initialized with max_depth=1. <br>\n",
        "🟣 default value: `DecisionTreeClassifier(max_depth=1)`\n",
        "*   `n_estimators` : <br>\n",
        "The maximum number of estimators at which boosting is terminated. In case of perfect fit, the learning procedure is stopped early.<br>\n",
        "🟣 default value: `50` <br>"
      ]
    },
    {
      "cell_type": "markdown",
      "id": "ec1ea9ff",
      "metadata": {
        "id": "ec1ea9ff"
      },
      "source": [
        "## 6.1. Base Estimator\n",
        "The Important thing to mention is that the `base_estimator` must be a classifier which support sample weighting. <br>\n",
        "Unfortunately the MLPClassifier does not support sample weighting, therefore we just test the Decision Tree and SVM as `base_estimator`."
      ]
    },
    {
      "cell_type": "code",
      "execution_count": null,
      "id": "2b17cf50",
      "metadata": {
        "id": "2b17cf50",
        "outputId": "26767668-bcb8-473b-9f14-d530d777c814"
      },
      "outputs": [
        {
          "name": "stdout",
          "output_type": "stream",
          "text": [
            "Test Data Purity : 63.4%\n",
            "Test Data Rand-Index : 53.54%\n",
            "\n"
          ]
        },
        {
          "data": {
            "text/plain": [
              "(0.725909090909091, 0.634)"
            ]
          },
          "execution_count": 49,
          "metadata": {},
          "output_type": "execute_result"
        }
      ],
      "source": [
        "from sklearn.ensemble import AdaBoostClassifier\n",
        "import matplotlib.pyplot as plt\n",
        "\n",
        "def do_boosting(boosting, print_result=True):\n",
        "    boosting.fit(x_train, y_train)\n",
        "    train_predict = boosting.predict(x_train)\n",
        "    test_predict = boosting.predict(x_test)\n",
        "    train_purity = accuracy_score(train_predict, y_train)\n",
        "    train_rand_index = rand_score(train_predict, y_train)\n",
        "    test_purity = accuracy_score(test_predict, y_test)\n",
        "    test_rand_index = rand_score(test_predict, y_test)\n",
        "    if print_result:\n",
        "        print(f'Test Data Purity : {round(test_purity * 100, 2)}%')\n",
        "        print(f'Test Data Rand-Index : {round(test_rand_index * 100, 2)}%')\n",
        "        print()\n",
        "    return train_purity, test_purity\n",
        "\n",
        "clf = AdaBoostClassifier(n_estimators=50, base_estimator=SVC(), algorithm='SAMME')\n",
        "do_boosting(clf)"
      ]
    },
    {
      "cell_type": "code",
      "execution_count": null,
      "id": "79b6608f",
      "metadata": {
        "scrolled": true,
        "id": "79b6608f",
        "outputId": "8b1abdb4-4ba4-454c-acb4-963b445d76ce"
      },
      "outputs": [
        {
          "name": "stdout",
          "output_type": "stream",
          "text": [
            "Test Data Purity : 55.1%\n",
            "Test Data Rand-Index : 50.47%\n",
            "\n"
          ]
        },
        {
          "data": {
            "text/plain": [
              "(1.0, 0.551)"
            ]
          },
          "execution_count": 54,
          "metadata": {},
          "output_type": "execute_result"
        }
      ],
      "source": [
        "clf = AdaBoostClassifier(n_estimators=50, base_estimator=DecisionTreeClassifier(), algorithm='SAMME')\n",
        "do_boosting(clf)"
      ]
    },
    {
      "cell_type": "markdown",
      "id": "92561398",
      "metadata": {
        "id": "92561398"
      },
      "source": [
        "In the two code sections above, we train an `AdaBoostClassifier` once with Decission Tree and once with SVM. <br>\n",
        "The result that we get is not so much. however it is better for SVM, altough it takes so so much time to be executed. <br>\n",
        "The reason that we didn't get much accuracy, is that we haven't used the power of Ada Boost correctly. <br>\n",
        "Ada Boost is a classifier that combines lots of weak classifiers and create a strong classifier. <br>\n",
        "A weak classifier is a classifier that is executed too fast, is not complex at all, does not overfit. <br>\n",
        "By using a full Decision Tree and a full SVM as our base estimators, we are combining strong classifiers in a wrong way, therefore we get a lower accuracy than each individual estimator. <br>\n",
        "We should use basic and simple estimators, for example a Decision Tree with `max_depth=1` or an SVM with `max_iter=10`. <br>\n",
        "So we will use these simple classifiers and check the result of them."
      ]
    },
    {
      "cell_type": "code",
      "execution_count": null,
      "id": "bc4f522c",
      "metadata": {
        "id": "bc4f522c",
        "outputId": "fa9ab6bb-465b-4bba-a67f-748f20ac96a2"
      },
      "outputs": [
        {
          "data": {
            "image/png": "[encoded data removed]",
            "text/plain": [
              "<Figure size 432x288 with 1 Axes>"
            ]
          },
          "metadata": {
            "needs_background": "light"
          },
          "output_type": "display_data"
        },
        {
          "data": {
            "image/png": "[encoded data removed]",
            "text/plain": [
              "<Figure size 432x288 with 1 Axes>"
            ]
          },
          "metadata": {
            "needs_background": "light"
          },
          "output_type": "display_data"
        }
      ],
      "source": [
        "import matplotlib.pyplot as plt\n",
        "\n",
        "def show_bar_chart(x, y, title, color):\n",
        "    fig = plt.figure()\n",
        "    ax = fig.add_axes([0,0,1,1])\n",
        "    ax.title.set_text(title)\n",
        "    ax.bar(x, y, color=color, width=0.3)\n",
        "    plt.show()\n",
        "\n",
        "base_estimators = [DecisionTreeClassifier(max_depth=1), DecisionTreeClassifier(max_depth=2),\n",
        "                  SVC(max_iter=5), SVC(max_iter=10)]\n",
        "base_estimators_str = ['dt1', 'dt2', 'svm1', 'svm2']\n",
        "train_purities = []\n",
        "test_purities = []\n",
        "for base_estimator in base_estimators :\n",
        "    boosting = AdaBoostClassifier(base_estimator=base_estimator, algorithm='SAMME')\n",
        "    train_purity, test_purity = do_boosting(boosting, False)\n",
        "    train_purities.append(train_purity)\n",
        "    test_purities.append(test_purity)\n",
        "\n",
        "show_bar_chart(base_estimators_str, train_purities,'Estimators Train Purity', 'tab:blue')\n",
        "show_bar_chart(base_estimators_str, test_purities,'Estimators test Purity', 'tab:purple')"
      ]
    },
    {
      "cell_type": "markdown",
      "id": "26bcf15e",
      "metadata": {
        "id": "26bcf15e"
      },
      "source": [
        "From the plots we infer that, unlike our previous code block, now the weak version of Decision Trees have better accuracy than the SVM. also by comparing the result of this weak classifiers, we can see that by combining weak classifiers, we get more accuracy than with combining strong classifiers."
      ]
    },
    {
      "cell_type": "markdown",
      "id": "3461ef30",
      "metadata": {
        "id": "3461ef30"
      },
      "source": [
        "## 6.2. Number of Estimators\n",
        "Another important parameter is the number of estimators. <br>\n",
        "Up to now we have used 50 estimators for our tests. but we will get more accuracy if we use more estimators, the reason is that we combine more weak classifiers and we detect more difficult cases."
      ]
    },
    {
      "cell_type": "code",
      "execution_count": null,
      "id": "1b4a732d",
      "metadata": {
        "id": "1b4a732d",
        "outputId": "f023a4c3-1a91-41c5-a665-dacc4cd771da"
      },
      "outputs": [
        {
          "data": {
            "image/png": "[encoded data removed]",
            "text/plain": [
              "<Figure size 432x288 with 1 Axes>"
            ]
          },
          "metadata": {
            "needs_background": "light"
          },
          "output_type": "display_data"
        },
        {
          "data": {
            "image/png": "[encoded data removed]",
            "text/plain": [
              "<Figure size 432x288 with 1 Axes>"
            ]
          },
          "metadata": {
            "needs_background": "light"
          },
          "output_type": "display_data"
        }
      ],
      "source": [
        "n_estimators = [50, 100, 150, 200, 250, 300, 350, 400, 450, 500, 550, 600, 650, 700]\n",
        "train_purities = []\n",
        "test_purities = []\n",
        "for n_estimator in n_estimators :\n",
        "    boosting = AdaBoostClassifier(n_estimators=n_estimator, base_estimator=DecisionTreeClassifier(max_depth=2))\n",
        "    train_purity, test_purity = do_boosting(boosting, False)\n",
        "    train_purities.append(train_purity)\n",
        "    test_purities.append(test_purity)\n",
        "\n",
        "\n",
        "plt.plot(n_estimators, train_purities, 'tab:orange')\n",
        "plt.suptitle('Number of Estimators on Train Purity')\n",
        "plt.show()\n",
        "plt.plot(n_estimators, test_purities, 'tab:red')\n",
        "plt.suptitle('Number of Estimators on Test Purity')\n",
        "plt.show()"
      ]
    },
    {
      "cell_type": "markdown",
      "id": "786209e6",
      "metadata": {
        "id": "786209e6"
      },
      "source": [
        "As it is clear in the plots, by increasing the number of estimators, we get much more accuracy. <br>\n",
        "We were using a weak decision tree that would have 50% accuracy (random guess) individually, and by combining this weak decision tree 500 times, we get 72% accuracy which is almost a good accuracy. "
      ]
    },
    {
      "cell_type": "markdown",
      "id": "d7866b76",
      "metadata": {
        "id": "d7866b76"
      },
      "source": [
        "## 6.3 Changing the dataset\n",
        "The AdaBoost Classifier is known to be a classifier that combine weak classifiers to create a strong one. <br>\n",
        "These weak classifiers must be so simple, just like performing a threshold on a column of dataset. <br>\n",
        "Our main dataset had 1024 columns, which was a large amount and this would prevent our `AdaBoostClassifier` to unleash its powers. <br>\n",
        "Therefore we change our datatset and instead of 1024 columns, we now have one column, and that column is the euclidian vector distance between the VGG of the two images. <br>\n",
        "We suppose that by doing this simplification, we would get better accuracy for our Ada Boost Classifier. <br>"
      ]
    },
    {
      "cell_type": "code",
      "execution_count": null,
      "id": "2bfaaa74",
      "metadata": {
        "id": "2bfaaa74",
        "outputId": "06816a21-6aaf-4274-b9ef-628ed0c9ad6a"
      },
      "outputs": [
        {
          "name": "stdout",
          "output_type": "stream",
          "text": [
            "2200\n",
            "1000\n"
          ]
        }
      ],
      "source": [
        "def create_dataset_adaboost(filename):\n",
        "    file = open(filename, \"r\")\n",
        "    lines = file.readlines()\n",
        "    file.close()\n",
        "    x_list = []\n",
        "    y_list = []\n",
        "\n",
        "    for line in lines:\n",
        "        splitted = line.split()\n",
        "        row = []\n",
        "        if len(splitted) == 3:\n",
        "            name1 = \"project/lfw/{}/{}_{}.{}\".format(splitted[0], splitted[0], str(splitted[1]).zfill(4), 'txt')\n",
        "            name2 = \"project/lfw/{}/{}_{}.{}\".format(splitted[0], splitted[0], str(splitted[2]).zfill(4), 'txt')\n",
        "            dist = np.linalg.norm(np.array(read_features_from_file(name1))-np.array(read_features_from_file(name2)))\n",
        "            y_list.append(True)\n",
        "            x_list.append(dist)\n",
        "        if len(splitted) == 4:\n",
        "            name1 = \"project/lfw/{}/{}_{}.{}\".format(splitted[0], splitted[0], str(splitted[1]).zfill(4), 'txt')\n",
        "            name2 = \"project/lfw/{}/{}_{}.{}\".format(splitted[2], splitted[2], str(splitted[3]).zfill(4), 'txt')\n",
        "            dist = np.linalg.norm(np.array(read_features_from_file(name1))-np.array(read_features_from_file(name2)))\n",
        "            y_list.append(False)\n",
        "            x_list.append(dist)\n",
        "    return x_list, y_list\n",
        "\n",
        "x_train2, y_train2 = create_dataset_adaboost('project/pairsDevTrain.txt')\n",
        "x_test2, y_test2 = create_dataset_adaboost('project/pairsDevTest.txt')\n",
        "\n",
        "x_train2 = np.array(x_train2).reshape(-1, 1)\n",
        "x_test2 = np.array(x_test2).reshape(-1, 1)\n",
        "\n",
        "print(len(x_train2))\n",
        "print(len(x_test2))"
      ]
    },
    {
      "cell_type": "markdown",
      "id": "baad7004",
      "metadata": {
        "id": "baad7004"
      },
      "source": [
        "### 6.3.1. Decision Tree on new Dataset"
      ]
    },
    {
      "cell_type": "code",
      "execution_count": null,
      "id": "65fe15b0",
      "metadata": {
        "id": "65fe15b0",
        "outputId": "74de798d-328c-4370-b75e-6ace225a9e30"
      },
      "outputs": [
        {
          "data": {
            "image/png": "[encoded data removed]",
            "text/plain": [
              "<Figure size 432x288 with 1 Axes>"
            ]
          },
          "metadata": {
            "needs_background": "light"
          },
          "output_type": "display_data"
        },
        {
          "data": {
            "image/png": "[encoded data removed]",
            "text/plain": [
              "<Figure size 432x288 with 1 Axes>"
            ]
          },
          "metadata": {
            "needs_background": "light"
          },
          "output_type": "display_data"
        }
      ],
      "source": [
        "def do_boosting2(boosting, print_result=True):\n",
        "    boosting.fit(x_train2, y_train2)\n",
        "    train_predict = boosting.predict(x_train2)\n",
        "    test_predict = boosting.predict(x_test2)\n",
        "    train_purity = accuracy_score(train_predict, y_train2)\n",
        "    train_rand_index = rand_score(train_predict, y_train2)\n",
        "    test_purity = accuracy_score(test_predict, y_test2)\n",
        "    test_rand_index = rand_score(test_predict, y_test2)\n",
        "    if print_result:\n",
        "        print(f'Test Data Purity : {round(test_purity * 100, 2)}%')\n",
        "        print(f'Test Data Rand-Index : {round(test_rand_index * 100, 2)}%')\n",
        "        print()\n",
        "    return train_purity, test_purity\n",
        "\n",
        "n_estimators = [50, 100, 150, 200, 250, 300, 350, 400, 450, 500, 550, 600, 650, 700]\n",
        "train_purities = []\n",
        "test_purities = []\n",
        "for n_estimator in n_estimators :\n",
        "    boosting = AdaBoostClassifier(n_estimators=n_estimator, base_estimator=DecisionTreeClassifier(max_depth=1))\n",
        "    train_purity, test_purity = do_boosting2(boosting, False)\n",
        "    train_purities.append(train_purity)\n",
        "    test_purities.append(test_purity)\n",
        "\n",
        "\n",
        "plt.plot(n_estimators, train_purities, 'tab:orange')\n",
        "plt.suptitle('Number of Estimators on Train Purity')\n",
        "plt.show()\n",
        "plt.plot(n_estimators, test_purities, 'tab:red')\n",
        "plt.suptitle('Number of Estimators on Test Purity')\n",
        "plt.show()"
      ]
    },
    {
      "cell_type": "markdown",
      "id": "b31e2c54",
      "metadata": {
        "id": "b31e2c54"
      },
      "source": [
        "In the above code, we had used different numbers as `n_estimators` and we used a Decision Tree classifier with `max_depth=1` (i.e, thresholding) to train our AdaBoost Classifier. <br>\n",
        "As you can see, we get 78.6% accuracy by using 50 estimators and by increasing this number, we will lose accuracy. <br>\n",
        "However as we expected, this accuracy is much more than the accuracy that we got with previous dataset."
      ]
    },
    {
      "cell_type": "markdown",
      "id": "6d8eb6f6",
      "metadata": {
        "id": "6d8eb6f6"
      },
      "source": [
        "### 6.3.2. SVM on new Dataset\n",
        "In the previous section we discussed the DT on our new dataset, now we want to test SVM on our new dataset. <br>\n",
        "With previous datset we got less accuracy with a weak SVM. <br>"
      ]
    },
    {
      "cell_type": "code",
      "execution_count": null,
      "id": "7a248f4e",
      "metadata": {
        "id": "7a248f4e",
        "outputId": "e450ca90-f4c0-49f6-aa29-f1532e87ed18"
      },
      "outputs": [
        {
          "data": {
            "image/png": "[encoded data removed]",
            "text/plain": [
              "<Figure size 432x288 with 1 Axes>"
            ]
          },
          "metadata": {
            "needs_background": "light"
          },
          "output_type": "display_data"
        },
        {
          "data": {
            "image/png": "[encoded data removed]",
            "text/plain": [
              "<Figure size 432x288 with 1 Axes>"
            ]
          },
          "metadata": {
            "needs_background": "light"
          },
          "output_type": "display_data"
        }
      ],
      "source": [
        "gammas = [0.001, 0.002, 0.003, 0.004, 0.005, 0.006, 0.007, 0.008, 0.009]\n",
        "train_purities = []\n",
        "test_purities = []\n",
        "for gamma in gammas :\n",
        "    boosting = AdaBoostClassifier(base_estimator=SVC(gamma=gamma), algorithm='SAMME')\n",
        "    train_purity, test_purity = do_boosting2(boosting, False)\n",
        "    train_purities.append(train_purity)\n",
        "    test_purities.append(test_purity)\n",
        "\n",
        "\n",
        "plt.plot(gammas, train_purities, 'tab:orange')\n",
        "plt.suptitle('SVM Gamma on Train Purity')\n",
        "plt.show()\n",
        "plt.plot(gammas, test_purities, 'tab:red')\n",
        "plt.suptitle('SVM Gamma on Test Purity')\n",
        "plt.show()"
      ]
    },
    {
      "cell_type": "markdown",
      "id": "3884dc84",
      "metadata": {
        "id": "3884dc84"
      },
      "source": [
        "As it is clear in the plots, by using SVM as `base_estimator` we get more accuracy than decision trees. <br>\n",
        "By using `gamma=0.009` we get 80.3% accuracy which is the best accuracy that we have gotten so far by any ensemble method. <br>\n"
      ]
    },
    {
      "cell_type": "markdown",
      "id": "a25919d9",
      "metadata": {
        "id": "a25919d9"
      },
      "source": [
        "#  "
      ]
    },
    {
      "cell_type": "markdown",
      "id": "6c7fa694",
      "metadata": {
        "id": "6c7fa694"
      },
      "source": [
        "# Summary\n",
        "We have used 5 different ensemble methods:\n",
        "* Voting Classifier\n",
        "* Bagging Classifier\n",
        "* Stacking Classifier\n",
        "* Random Forest Classifier\n",
        "* Ada Boost Classifier\n",
        "\n",
        "We have created a dataset containing 2200 rows and 1024 columns(512 feature points of two image) and another dataset specially for Ada Boost Classifier which contains 2200 rows and 1 column(euclidian distance of 512 VGG of two image) <br>\n",
        "The best results that we get for each classifier is as follows:\n",
        "* Voting Classifier: weighed voting, `78.8 %`\n",
        "* Bagging Classifier: using 13 MLP estimators with replacement, `79%`\n",
        "* Stacking Classifier: using 3 estimators (2 SVM, 1 MLP) and `LogisticRegression` as final estimator, `78.8%`\n",
        "* Random Forest Classifier: using entropy and 55 trees with `max_depth=20`, `66%`\n",
        "* Ada Boost Classifier: using new dataset and SVM with `gamma=0.009` and 50 estimator, `80.3%`\n",
        "\n",
        "Therefore we can infer that the Ada Boost Classifier had the best result over all ensemble methods in this dataset.\n"
      ]
    },
    {
      "cell_type": "code",
      "execution_count": null,
      "id": "5c1b9d0d",
      "metadata": {
        "id": "5c1b9d0d"
      },
      "outputs": [],
      "source": []
    }
  ],
  "metadata": {
    "kernelspec": {
      "display_name": "Python 3 (ipykernel)",
      "language": "python",
      "name": "python3"
    },
    "language_info": {
      "codemirror_mode": {
        "name": "ipython",
        "version": 3
      },
      "file_extension": ".py",
      "mimetype": "text/x-python",
      "name": "python",
      "nbconvert_exporter": "python",
      "pygments_lexer": "ipython3",
      "version": "3.9.6"
    },
    "colab": {
      "provenance": [],
      "collapsed_sections": [
        "ada15d7b",
        "1b53bcbb",
        "ea961227",
        "b4fd4d46",
        "a74de3b1",
        "2bab54f7",
        "c850b1e1",
        "e5bbfae9",
        "c3ba49b4",
        "ec1ea9ff",
        "3461ef30",
        "d7866b76",
        "baad7004",
        "6d8eb6f6"
      ],
      "toc_visible": true,
      "include_colab_link": true
    }
  },
  "nbformat": 4,
  "nbformat_minor": 5
}